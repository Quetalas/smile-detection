{
  "nbformat": 4,
  "nbformat_minor": 0,
  "metadata": {
    "colab": {
      "name": "Smile Detection.ipynb",
      "provenance": [],
      "collapsed_sections": []
    },
    "kernelspec": {
      "name": "python3",
      "display_name": "Python 3"
    },
    "accelerator": "GPU"
  },
  "cells": [
    {
      "cell_type": "code",
      "metadata": {
        "id": "h-0TqjPyiw4j",
        "colab_type": "code",
        "colab": {
          "base_uri": "https://localhost:8080/",
          "height": 83
        },
        "outputId": "21037160-32fa-474d-a380-65d2aedf1025"
      },
      "source": [
        "from sklearn.preprocessing import LabelEncoder\n",
        "from sklearn.model_selection import train_test_split\n",
        "from sklearn.metrics import classification_report\n",
        "from keras.preprocessing.image import img_to_array\n",
        "from keras.utils import np_utils\n",
        "from keras.models import Sequential\n",
        "from keras.layers.convolutional import Conv2D\n",
        "from keras.layers.convolutional import MaxPooling2D\n",
        "from keras.layers.core import Activation\n",
        "from keras.layers.core import Flatten\n",
        "from keras.layers.core import Dense\n",
        "from imutils import paths\n",
        "import matplotlib.pyplot as plt\n",
        "import numpy as np\n",
        "import argparse\n",
        "import imutils\n",
        "import cv2\n",
        "import os"
      ],
      "execution_count": 1,
      "outputs": [
        {
          "output_type": "stream",
          "text": [
            "Using TensorFlow backend.\n"
          ],
          "name": "stderr"
        },
        {
          "output_type": "display_data",
          "data": {
            "text/html": [
              "<p style=\"color: red;\">\n",
              "The default version of TensorFlow in Colab will soon switch to TensorFlow 2.x.<br>\n",
              "We recommend you <a href=\"https://www.tensorflow.org/guide/migrate\" target=\"_blank\">upgrade</a> now \n",
              "or ensure your notebook will continue to use TensorFlow 1.x via the <code>%tensorflow_version 1.x</code> magic:\n",
              "<a href=\"https://colab.research.google.com/notebooks/tensorflow_version.ipynb\" target=\"_blank\">more info</a>.</p>\n"
            ],
            "text/plain": [
              "<IPython.core.display.HTML object>"
            ]
          },
          "metadata": {
            "tags": []
          }
        }
      ]
    },
    {
      "cell_type": "code",
      "metadata": {
        "id": "tegFFKTxpW7u",
        "colab_type": "code",
        "colab": {
          "base_uri": "https://localhost:8080/",
          "height": 54
        },
        "outputId": "a3c2ecba-8c2b-4354-93fc-986117f59a40"
      },
      "source": [
        "!git clone https://github.com/hromi/SMILEsmileD.git\n",
        "!ls"
      ],
      "execution_count": 2,
      "outputs": [
        {
          "output_type": "stream",
          "text": [
            "fatal: destination path 'SMILEsmileD' already exists and is not an empty directory.\n",
            "model.hdf5  sample_data  SMILEsmileD\n"
          ],
          "name": "stdout"
        }
      ]
    },
    {
      "cell_type": "code",
      "metadata": {
        "id": "HpRDFtcRn9Dy",
        "colab_type": "code",
        "colab": {}
      },
      "source": [
        "args = {'dataset': \"/content/SMILEsmileD/SMILEs\"}\n",
        "data = []\n",
        "labels = []\n",
        "for imagePath in sorted(list(paths.list_images(args['dataset']))):\n",
        "  image = cv2.imread(imagePath)\n",
        "  image = cv2.cvtColor(image, cv2.COLOR_BGR2GRAY)\n",
        "  image = imutils.resize(image, width=28)\n",
        "  image = img_to_array(image)\n",
        "  data.append(image)\n",
        "  label = imagePath.split(os.path.sep)[-3]\n",
        "  label = \"smiling\" if label == 'positives' else 'not_smiling'\n",
        "  labels.append(label)"
      ],
      "execution_count": 0,
      "outputs": []
    },
    {
      "cell_type": "code",
      "metadata": {
        "id": "E-5mJqrWpV-G",
        "colab_type": "code",
        "colab": {}
      },
      "source": [
        "data = np.array(data, dtype='float') / 255.0\n",
        "labels = np.array(labels)\n",
        "le = LabelEncoder().fit(labels)\n",
        "labels = np_utils.to_categorical(le.transform(labels), 2)\n",
        "classTotals = labels.sum(axis=0)\n",
        "classWeight = classTotals.max() / classTotals"
      ],
      "execution_count": 0,
      "outputs": []
    },
    {
      "cell_type": "code",
      "metadata": {
        "id": "zx5Vd_x0tQTS",
        "colab_type": "code",
        "colab": {
          "base_uri": "https://localhost:8080/",
          "height": 184
        },
        "outputId": "54e3f203-926f-4b61-ae54-6ac02751d2b6"
      },
      "source": [
        "model = Sequential()\n",
        "model.add(Conv2D(20,(5, 5), padding='same', input_shape=(28, 28, 1)))\n",
        "model.add(Activation('relu'))\n",
        "model.add(MaxPooling2D(pool_size=(2, 2), strides=(2, 2)))\n",
        "\n",
        "model.add(Conv2D(50,(5, 5), padding='same'))\n",
        "model.add(Activation('relu'))\n",
        "model.add(MaxPooling2D(pool_size=(2, 2), strides=(2, 2)))\n",
        "\n",
        "model.add(Flatten())\n",
        "model.add(Dense(500))\n",
        "model.add(Activation('relu'))\n",
        "\n",
        "model.add(Dense(2))\n",
        "model.add(Activation('softmax'))"
      ],
      "execution_count": 5,
      "outputs": [
        {
          "output_type": "stream",
          "text": [
            "WARNING:tensorflow:From /usr/local/lib/python3.6/dist-packages/keras/backend/tensorflow_backend.py:66: The name tf.get_default_graph is deprecated. Please use tf.compat.v1.get_default_graph instead.\n",
            "\n",
            "WARNING:tensorflow:From /usr/local/lib/python3.6/dist-packages/keras/backend/tensorflow_backend.py:541: The name tf.placeholder is deprecated. Please use tf.compat.v1.placeholder instead.\n",
            "\n",
            "WARNING:tensorflow:From /usr/local/lib/python3.6/dist-packages/keras/backend/tensorflow_backend.py:4432: The name tf.random_uniform is deprecated. Please use tf.random.uniform instead.\n",
            "\n",
            "WARNING:tensorflow:From /usr/local/lib/python3.6/dist-packages/keras/backend/tensorflow_backend.py:4267: The name tf.nn.max_pool is deprecated. Please use tf.nn.max_pool2d instead.\n",
            "\n"
          ],
          "name": "stdout"
        }
      ]
    },
    {
      "cell_type": "code",
      "metadata": {
        "id": "-khK0VhpsBBp",
        "colab_type": "code",
        "colab": {
          "base_uri": "https://localhost:8080/",
          "height": 1000
        },
        "outputId": "1f7f8aa1-17f0-4310-81fe-40bc9b741701"
      },
      "source": [
        "(trainX, testX, trainY, testY) = train_test_split(data, labels, \n",
        "                                                  test_size=0.20, \n",
        "                                                  stratify=labels,\n",
        "                                                  random_state=42)\n",
        "\n",
        "print('[INFO] compiling model...')\n",
        "model.compile(loss='binary_crossentropy', optimizer='adam', \n",
        "              metrics=['accuracy'])\n",
        "print('[INFO] training network...')\n",
        "H = model.fit(trainX, trainY, validation_data=(testX, testY),\n",
        "              class_weight=classWeight, batch_size=64, epochs=15,\n",
        "              verbose=1)\n"
      ],
      "execution_count": 6,
      "outputs": [
        {
          "output_type": "stream",
          "text": [
            "[INFO] compiling model...\n",
            "WARNING:tensorflow:From /usr/local/lib/python3.6/dist-packages/keras/optimizers.py:793: The name tf.train.Optimizer is deprecated. Please use tf.compat.v1.train.Optimizer instead.\n",
            "\n",
            "WARNING:tensorflow:From /usr/local/lib/python3.6/dist-packages/keras/backend/tensorflow_backend.py:3657: The name tf.log is deprecated. Please use tf.math.log instead.\n",
            "\n",
            "WARNING:tensorflow:From /usr/local/lib/python3.6/dist-packages/tensorflow_core/python/ops/nn_impl.py:183: where (from tensorflow.python.ops.array_ops) is deprecated and will be removed in a future version.\n",
            "Instructions for updating:\n",
            "Use tf.where in 2.0, which has the same broadcast rule as np.where\n",
            "[INFO] training network...\n",
            "WARNING:tensorflow:From /usr/local/lib/python3.6/dist-packages/keras/backend/tensorflow_backend.py:1033: The name tf.assign_add is deprecated. Please use tf.compat.v1.assign_add instead.\n",
            "\n",
            "WARNING:tensorflow:From /usr/local/lib/python3.6/dist-packages/keras/backend/tensorflow_backend.py:1020: The name tf.assign is deprecated. Please use tf.compat.v1.assign instead.\n",
            "\n",
            "WARNING:tensorflow:From /usr/local/lib/python3.6/dist-packages/keras/backend/tensorflow_backend.py:3005: The name tf.Session is deprecated. Please use tf.compat.v1.Session instead.\n",
            "\n",
            "Train on 10532 samples, validate on 2633 samples\n",
            "Epoch 1/15\n",
            "WARNING:tensorflow:From /usr/local/lib/python3.6/dist-packages/keras/backend/tensorflow_backend.py:190: The name tf.get_default_session is deprecated. Please use tf.compat.v1.get_default_session instead.\n",
            "\n",
            "WARNING:tensorflow:From /usr/local/lib/python3.6/dist-packages/keras/backend/tensorflow_backend.py:197: The name tf.ConfigProto is deprecated. Please use tf.compat.v1.ConfigProto instead.\n",
            "\n",
            "WARNING:tensorflow:From /usr/local/lib/python3.6/dist-packages/keras/backend/tensorflow_backend.py:207: The name tf.global_variables is deprecated. Please use tf.compat.v1.global_variables instead.\n",
            "\n",
            "WARNING:tensorflow:From /usr/local/lib/python3.6/dist-packages/keras/backend/tensorflow_backend.py:216: The name tf.is_variable_initialized is deprecated. Please use tf.compat.v1.is_variable_initialized instead.\n",
            "\n",
            "WARNING:tensorflow:From /usr/local/lib/python3.6/dist-packages/keras/backend/tensorflow_backend.py:223: The name tf.variables_initializer is deprecated. Please use tf.compat.v1.variables_initializer instead.\n",
            "\n",
            "10532/10532 [==============================] - 3s 322us/step - loss: 0.4153 - acc: 0.8130 - val_loss: 0.3166 - val_acc: 0.8671\n",
            "Epoch 2/15\n",
            "10532/10532 [==============================] - 1s 90us/step - loss: 0.2767 - acc: 0.8882 - val_loss: 0.2753 - val_acc: 0.8861\n",
            "Epoch 3/15\n",
            "10532/10532 [==============================] - 1s 89us/step - loss: 0.2487 - acc: 0.9012 - val_loss: 0.2558 - val_acc: 0.8971\n",
            "Epoch 4/15\n",
            "10532/10532 [==============================] - 1s 87us/step - loss: 0.2323 - acc: 0.9069 - val_loss: 0.2634 - val_acc: 0.8918\n",
            "Epoch 5/15\n",
            "10532/10532 [==============================] - 1s 85us/step - loss: 0.2226 - acc: 0.9141 - val_loss: 0.2406 - val_acc: 0.9032\n",
            "Epoch 6/15\n",
            "10532/10532 [==============================] - 1s 85us/step - loss: 0.2114 - acc: 0.9180 - val_loss: 0.2404 - val_acc: 0.9088\n",
            "Epoch 7/15\n",
            "10532/10532 [==============================] - 1s 87us/step - loss: 0.1963 - acc: 0.9255 - val_loss: 0.2792 - val_acc: 0.8880\n",
            "Epoch 8/15\n",
            "10532/10532 [==============================] - 1s 89us/step - loss: 0.1922 - acc: 0.9254 - val_loss: 0.2408 - val_acc: 0.9077\n",
            "Epoch 9/15\n",
            "10532/10532 [==============================] - 1s 89us/step - loss: 0.1782 - acc: 0.9334 - val_loss: 0.2443 - val_acc: 0.9054\n",
            "Epoch 10/15\n",
            "10532/10532 [==============================] - 1s 90us/step - loss: 0.1657 - acc: 0.9375 - val_loss: 0.2436 - val_acc: 0.9043\n",
            "Epoch 11/15\n",
            "10532/10532 [==============================] - 1s 95us/step - loss: 0.1616 - acc: 0.9374 - val_loss: 0.2306 - val_acc: 0.9115\n",
            "Epoch 12/15\n",
            "10532/10532 [==============================] - 1s 88us/step - loss: 0.1514 - acc: 0.9421 - val_loss: 0.2393 - val_acc: 0.9073\n",
            "Epoch 13/15\n",
            "10532/10532 [==============================] - 1s 87us/step - loss: 0.1380 - acc: 0.9465 - val_loss: 0.2499 - val_acc: 0.9051\n",
            "Epoch 14/15\n",
            "10532/10532 [==============================] - 1s 90us/step - loss: 0.1312 - acc: 0.9483 - val_loss: 0.2483 - val_acc: 0.9013\n",
            "Epoch 15/15\n",
            "10532/10532 [==============================] - 1s 88us/step - loss: 0.1195 - acc: 0.9563 - val_loss: 0.2918 - val_acc: 0.8857\n"
          ],
          "name": "stdout"
        }
      ]
    },
    {
      "cell_type": "code",
      "metadata": {
        "id": "v2wvzlt6tm19",
        "colab_type": "code",
        "colab": {
          "base_uri": "https://localhost:8080/",
          "height": 219
        },
        "outputId": "8a5ce6e2-bb0f-49d7-fc11-2d0245d5dc57"
      },
      "source": [
        "print('[INFO] evaluating network...')\n",
        "predictions = model.predict(testX, batch_size=64)\n",
        "print(classification_report(testY.argmax(axis=1),\n",
        "      predictions.argmax(axis=1), target_names=le.classes_))\n",
        "print('[INFO] serializeinf network...')\n",
        "model.save('/content/model.hdf5')"
      ],
      "execution_count": 7,
      "outputs": [
        {
          "output_type": "stream",
          "text": [
            "[INFO] evaluating network...\n",
            "              precision    recall  f1-score   support\n",
            "\n",
            " not_smiling       0.96      0.88      0.92      1895\n",
            "     smiling       0.75      0.90      0.81       738\n",
            "\n",
            "    accuracy                           0.89      2633\n",
            "   macro avg       0.85      0.89      0.87      2633\n",
            "weighted avg       0.90      0.89      0.89      2633\n",
            "\n",
            "[INFO] serializeinf network...\n"
          ],
          "name": "stdout"
        }
      ]
    },
    {
      "cell_type": "code",
      "metadata": {
        "id": "9aUWtltsskH3",
        "colab_type": "code",
        "colab": {
          "base_uri": "https://localhost:8080/",
          "height": 299
        },
        "outputId": "f178b29c-0c28-44aa-bb97-ae35ab700627"
      },
      "source": [
        "plt.style.use(\"ggplot\")\n",
        "plt.figure()\n",
        "plt.plot(np.arange(0, 15), H.history[\"loss\"], label=\"train_loss\")\n",
        "plt.plot(np.arange(0, 15), H.history[\"val_loss\"], label=\"val_loss\")\n",
        "plt.plot(np.arange(0, 15), H.history[\"acc\"], label=\"acc\") \n",
        "plt.plot(np.arange(0, 15), H.history[\"val_acc\"], label=\"val_acc\") \n",
        "plt.title(\"Training Loss and Accuracy\")\n",
        "plt.xlabel(\"Epoch #\")\n",
        "plt.ylabel(\"Loss/Accuracy\")\n",
        "plt.legend()\n",
        "plt.show()"
      ],
      "execution_count": 8,
      "outputs": [
        {
          "output_type": "display_data",
          "data": {
            "image/png": "[encoded data removed]",
            "text/plain": [
              "<Figure size 432x288 with 1 Axes>"
            ]
          },
          "metadata": {
            "tags": []
          }
        }
      ]
    }
  ]
}